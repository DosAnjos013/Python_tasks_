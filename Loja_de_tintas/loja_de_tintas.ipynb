{
 "cells": [
  {
   "cell_type": "markdown",
   "id": "fee80189",
   "metadata": {},
   "source": [
    "#### 23. Faça um Programa para uma loja de tintas. O programa deverá pedir o tamanho em metros quadrados da área a ser pintada. Considere que a cobertura da tinta é de 1 litro para cada 6 metros quadrados e que a tinta é vendida em latas de 18 litros, que custam R\\\\$ 80,00 ou em galões de 3,6 litros, que custam R\\\\$ 25,00."
   ]
  },
  {
   "cell_type": "markdown",
   "id": "0d5fa10a",
   "metadata": {},
   "source": [
    "##### Informe ao usuário as quantidades de tinta a serem compradas e os respectivos preços em 3 situações.\n",
    "\n",
    "Dica: lembre dos operadores // e % mostrados em exercícios anteriores<br>\n",
    "Dica1: numero // 10 vai te dar como resposta a parte inteira da divisão do número por 10. Ex: 7 // 3 = 2; 10 // 3 = 3<br> \n",
    "Dica2: numero % 10 vai te dar o resto da divisão do número por 10. Ex: 7 % 3 = 1; 10 % 3 = 1; 15 % 3 = 0\n",
    "\n",
    "##### 1. Comprar apenas latas de 18 litros: (apenas latas inteiras)"
   ]
  },
  {
   "cell_type": "code",
   "execution_count": null,
   "id": "bc38cdcd",
   "metadata": {},
   "outputs": [],
   "source": [
    "import math\n",
    "area = input('Quantos M² tem a área de pintura?: ')\n",
    "rendimento = int(area) / 6 # O rendimento é basicamente quantos litros de tinta serão necessários para pintar a área indicada.\n",
    "def lata_G(area, rendimento):\n",
    "\n",
    "    quantidade = math.ceil(rendimento/18)#A quantidade de galões que serão necessários, já arredondados para cima, pois sabemos que não tem com comprar 1,5 galões, portanto deveremos comprar 2 galões...\n",
    "    custo = quantidade * 80#Custo multplicado diretamente pelo preço...\n",
    "    qtd = ''\n",
    "    if quantidade > 1:\n",
    "        qtd = 'serão necessárias {} latas que custarão R${:.2f}'.format(quantidade, custo)\n",
    "    else:\n",
    "        qtd = 'Será necessária apenas {} lata que custará R${:.2f}'.format(quantidade, custo)\n",
    "    return qtd\n",
    "\n",
    "print(lata_G(area, rendimento))"
   ]
  },
  {
   "cell_type": "markdown",
   "id": "15dc7322",
   "metadata": {},
   "source": [
    "##### 2. Comprar apenas galões de 3,6 litros: (apenas galoes inteiros)"
   ]
  },
  {
   "cell_type": "code",
   "execution_count": null,
   "id": "6e0a01af",
   "metadata": {},
   "outputs": [],
   "source": [
    "import math\n",
    "\n",
    "\n",
    "area = input('Quantos M² tem a área de pintura?: ')#verifica a área\n",
    "rendimento = int(area) / 6 # O rendimento é basicamente quantos litros de tinta serão necessários para pintar a área indicada.\n",
    "\n",
    "def lata_P(are,rendimento):\n",
    "    quantidade = math.ceil(rendimento / 3.6)#A quantidade de galões que serão necessários, já arredondados para cima, pois sabemos que não tem com comprar 1,5 galões, portanto deveremos comprar 2 galões...\n",
    "    venda = ''\n",
    "\n",
    "    # o if abaixo foi usado somente para a concordancia da frase no singular e plural kkk\n",
    "    if quantidade <= 1:\n",
    "        venda = 'Será necessária apenas {} lata para preencher toda a área.\\nValor total R${:.2f}'.format(quantidade, quantidade * 25)\n",
    "    else:\n",
    "        venda = 'Serão necessárias {} latas para preencher toda a área.\\nValor total R${:.2f}'.format(quantidade, quantidade * 25)\n",
    "    return venda\n",
    "\n",
    "print (lata_P(area, rendimento))"
   ]
  },
  {
   "cell_type": "code",
   "execution_count": null,
   "id": "003c053d",
   "metadata": {},
   "outputs": [
    {
     "ename": "",
     "evalue": "",
     "output_type": "error",
     "traceback": [
      "\u001b[1;31mA execução de células com 'Python 3.11.5' requer o pacote ipykernel.\n",
      "\u001b[1;31mExecute o seguinte comando para instalar \"ipykernel\" no ambiente do Python. \n",
      "\u001b[1;31mComando: \"c:/Users/joa_o/AppData/Local/Programs/Python/Python311/python.exe -m pip install ipykernel -U --user --force-reinstall\""
     ]
    }
   ],
   "source": [
    "print('oi')"
   ]
  },
  {
   "cell_type": "markdown",
   "id": "35e0aa11",
   "metadata": {},
   "source": [
    "##### 3. Misturar latas e galões, de forma que o desperdício de tinta seja menor. Sempre arredonde os valores para cima, isto é, considere latas cheias."
   ]
  },
  {
   "cell_type": "markdown",
   "id": "95a3d342",
   "metadata": {},
   "source": [
    "O custo da lata é 80/18 = 4,44 R\\\\$/L\n",
    "\n",
    "O custo do galão é 25/3,6 = 6,94 R\\\\$/L\n",
    "\n",
    "A lata é mais econômica, então todas as latas inteiras que pudermos usar devemos comprar em latas. Se ficar faltando alguma coisa para completar devemos avaliar se é melhor comprar latas ou galões. Exemplo:\n",
    "\n",
    "Se queremos comprar 90 litros. 5 latas dão exatamente 90 litros. Então devemos comprar tudo em latas.\n",
    "\n",
    "Se queremos comprar 95 litros. 5 latas dão exatamente 90 litros. Então devemos comprar pelo menos 5 latas e avaliar o que falta, se estes últimos 5 litros valem mais apenas em latas ou galões.\n",
    "\n",
    "Para os 5 litros faltantes precisamos de 2 galões que custam 50 reais no total. Ou de uma lata que custa 80 reais no total. Portanto, neste caso vale mais a pena usar 2 galões.\n",
    "\n",
    "Se queremos comprar 107 litros. 5 latas dão exatamente 90 litros. Então devemos comprar pelo menos 5 latas e avaliar o que falta, se estes últimos 5 litros valem mais apenas em latas ou galões.\n",
    "\n",
    "Para os 17 litros faltantes precisamos de 5 galões que custam 125 reais no total. Ou de uma lata que custa 80 reais no total. Portanto, neste caso vale mais a pena usar uma lata.\n",
    "\n",
    "3 galões custam 75 reais, 4 galões custam 100 reais. Então, se for possível completar com até 3 galões escolhe-se galões. Qualquer quantidade maior que 3 galões, usa-se latas.\n",
    "\n",
    "Podemos ir ao exercício:"
   ]
  },
  {
   "cell_type": "code",
   "execution_count": null,
   "id": "0e9847d9",
   "metadata": {},
   "outputs": [],
   "source": [
    "#importei a classe math para pode usar o maht.ceil que arredonda um número float pra cima\n",
    "import math\n",
    "#começamos perguntando a área a ser pintada em M²\n",
    "area = float(input('Quantos M² tem a área de pintura?: '))\n",
    "\n",
    "rendimento = float(area) / 6 # O rendimento é basicamente quantos litros de tinta serão necessários para pintar a área indicada.\n",
    "\n",
    "#daí o restante eu coloquei dentro de uma função\n",
    "def melhor_escolha(area, rendimento):\n",
    "    #definimos os valores da lata e do galão.\n",
    "    preco_lata = 80\n",
    "    preco_galao = 25\n",
    "    #como já sabemos a quantidade em litros de cada lata, decidi deixar nessas variaveis quanto de cada seria necessário para suprir a quantidade de litros do rendimento. acabou por facilitar meu código\n",
    "    latas = rendimento / 18\n",
    "    galoes = rendimento / 3.6\n",
    "    #no caso de precisarmos de usar galões extras para conseguir pintar toda a área\n",
    "    gl_extra = 0\n",
    "\n",
    "    #aqui vamos ver se precisamos de galões, latas ou uma junção dos dois.\n",
    "    if  math.ceil(galoes) * preco_galao  < preco_lata:\n",
    "        \n",
    "        if galoes > int(galoes):\n",
    "            galoes = math.ceil(galoes)\n",
    "            if galoes > 1:\n",
    "                print('{} galões serão necessários'. format(galoes))\n",
    "            else:\n",
    "                print('{} galão será necessário'.format(galoes))\n",
    "        else:\n",
    "            if galoes > 1:\n",
    "                print('{} galões serão necessários'. format(galoes))\n",
    "            else:\n",
    "                print('{} galão será necessário'.format(galoes))\n",
    "\n",
    "    else:\n",
    "        faltam = rendimento - (int(latas) * 18)\n",
    "        latas = int(latas)\n",
    "        if math.ceil(faltam/3.6) * preco_galao > preco_lata:\n",
    "            latas += 1\n",
    "        else:\n",
    "            gl_extra = math.ceil(faltam/3.6) \n",
    "        return'Quantidade necessária para preencher {}M²\\nLatas: {}\\nGalões: {}\\nValor total: R${:.2f}'.format(area, latas, gl_extra,((latas + lt_extras)* preco_lata) +(gl_extra * preco_galao) )\n",
    "#Lembrando que a melhor escolha será baseada no preço do galão e da lata. O código verifica qaul seria a combinação mais barata possível\n",
    "print (melhor_escolha(area, rendimento))"
   ]
  }
 ],
 "metadata": {
  "kernelspec": {
   "display_name": "Python 3",
   "language": "python",
   "name": "python3"
  },
  "language_info": {
   "codemirror_mode": {
    "name": "ipython",
    "version": 3
   },
   "file_extension": ".py",
   "mimetype": "text/x-python",
   "name": "python",
   "nbconvert_exporter": "python",
   "pygments_lexer": "ipython3",
   "version": "3.11.5"
  }
 },
 "nbformat": 4,
 "nbformat_minor": 5
}
